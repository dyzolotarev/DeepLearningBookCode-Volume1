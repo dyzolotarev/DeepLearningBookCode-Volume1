{
 "cells": [
  {
   "cell_type": "markdown",
   "metadata": {
    "collapsed": true
   },
   "source": [
    "<small>\n",
    "Copyright (c) 2017 Andrew Glassner\n",
    "\n",
    "Permission is hereby granted, free of charge, to any person obtaining a copy of this software and associated documentation files (the \"Software\"), to deal in the Software without restriction, including without limitation the rights to use, copy, modify, merge, publish, distribute, sublicense, and/or sell copies of the Software, and to permit persons to whom the Software is furnished to do so, subject to the following conditions:\n",
    "\n",
    "The above copyright notice and this permission notice shall be included in all copies or substantial portions of the Software.\n",
    "\n",
    "THE SOFTWARE IS PROVIDED \"AS IS\", WITHOUT WARRANTY OF ANY KIND, EXPRESS OR IMPLIED, INCLUDING BUT NOT LIMITED TO THE WARRANTIES OF MERCHANTABILITY, FITNESS FOR A PARTICULAR PURPOSE AND NONINFRINGEMENT. IN NO EVENT SHALL THE AUTHORS OR COPYRIGHT HOLDERS BE LIABLE FOR ANY CLAIM, DAMAGES OR OTHER LIABILITY, WHETHER IN AN ACTION OF CONTRACT, TORT OR OTHERWISE, ARISING FROM, OUT OF OR IN CONNECTION WITH THE SOFTWARE OR THE USE OR OTHER DEALINGS IN THE SOFTWARE.\n",
    "</small>\n",
    "\n",
    "\n",
    "\n",
    "# Deep Learning From Basics to Practice\n",
    "## by Andrew Glassner, https://dlbasics.com, http://glassner.com\n",
    "------\n",
    "## Chapter 15: Scikit-Learn\n",
    "### Notebook 1: Estimators"
   ]
  },
  {
   "cell_type": "code",
   "execution_count": 1,
   "metadata": {
    "pycharm": {
     "is_executing": false
    }
   },
   "outputs": [],
   "source": [
    "import numpy as np\n",
    "import math\n",
    "import matplotlib.pyplot as plt\n",
    "from sklearn.linear_model import Ridge\n",
    "import seaborn as sns ; sns.set()"
   ]
  },
  {
   "cell_type": "code",
   "execution_count": 2,
   "metadata": {
    "pycharm": {
     "is_executing": false
    }
   },
   "outputs": [
    {
     "name": "stderr",
     "text": [
      "Using TensorFlow backend.\n"
     ],
     "output_type": "stream"
    }
   ],
   "source": [
    "# Make a File_Helper for saving and loading files.\n",
    "\n",
    "save_files = True\n",
    "\n",
    "import os, sys, inspect\n",
    "current_dir = os.path.dirname(os.path.abspath(inspect.getfile(inspect.currentframe())))\n",
    "sys.path.insert(0, os.path.dirname(current_dir)) # path to parent dir\n",
    "from DLBasics_Utilities import File_Helper\n",
    "file_helper = File_Helper(save_files)"
   ]
  },
  {
   "cell_type": "code",
   "execution_count": 3,
   "metadata": {
    "pycharm": {
     "is_executing": false
    }
   },
   "outputs": [
    {
     "name": "stdout",
     "text": [
      "[[-0.50183952]\n [ 0.92797577]\n [-1.37592544]\n [-1.76766555]\n [ 0.40446005]\n [-1.91766202]\n [ 1.32977056]\n [-1.27270013]\n [-0.78303103]\n [-0.27221993]\n [ 0.44741158]\n [-0.83142141]\n [-0.17572006]\n [-1.20130487]\n [ 0.36965828]\n [ 0.43017941]\n [-1.73979363]\n [ 1.86252813]\n [-0.78154492]\n [ 0.73693211]\n [-1.51184706]\n [-1.86244592]\n [-0.96488007]\n [-0.7531557 ]\n [ 0.18684112]\n [ 1.87833851]\n [ 1.75799577]\n [ 0.39159992]\n [-1.64602999]\n [-1.81909084]\n [-0.44529084]\n [ 1.31495004]\n [-0.87626196]\n [-1.4363031 ]\n [-1.70179743]\n [ 1.08897908]\n [-1.97791153]\n [ 0.82742938]\n [ 1.08508139]\n [-0.56613709]\n [ 1.4524137 ]\n [-0.6764079 ]\n [-0.75607071]\n [ 0.91842471]\n [ 1.54885097]\n [-1.52162302]\n [ 1.04314019]\n [ 1.08386872]\n [ 0.09093132]\n [-1.89832349]\n [-1.87428326]\n [-0.74257608]\n [ 1.6302659 ]\n [-0.35846831]\n [-1.08480734]\n [-0.84099419]\n [ 1.71879061]\n [ 0.53361503]\n [ 1.21468831]\n [ 1.57023599]\n [ 1.22976062]\n [-0.7279861 ]\n [-1.08825935]\n [ 1.27205906]\n [-1.97219148]\n [-0.33035599]\n [-1.52053853]\n [ 1.77163882]\n [ 0.07516249]\n [-0.54548159]\n [ 1.84978918]\n [-0.01100598]\n [-0.86063802]\n [ 0.43825734]\n [-1.794085  ]\n [ 1.63306354]\n [-1.42042051]\n [ 1.94260182]\n [ 0.68854219]\n [-1.04944982]\n [-0.52886747]\n [ 0.53411884]\n [-1.63884092]\n [-0.71687974]\n [-1.83689943]\n [ 0.71025745]\n [ 0.04837223]\n [ 0.58069116]\n [ 0.76375095]\n [ 1.74691995]\n [-0.6357346 ]\n [ 1.69877447]\n [-0.96823349]\n [ 1.2688888 ]\n [ 0.11860231]\n [-1.62758893]\n [ 1.60167223]\n [-0.64388084]\n [ 0.90382272]\n [ 1.5483457 ]]\n"
     ],
     "output_type": "stream"
    }
   ],
   "source": [
    "# Make some data in the form of a shallow S\n",
    "np.random.seed(42)\n",
    "num_pts = 100\n",
    "noise_range = 0.2\n",
    "x_vals = []\n",
    "y_vals = []\n",
    "(x_left, x_right) = (-2, 2)\n",
    "for i in range(num_pts):\n",
    "    x = np.random.uniform(x_left, x_right)\n",
    "    y = np.random.uniform(-noise_range, noise_range) + (2*math.sin(x))\n",
    "    x_vals.append(x)\n",
    "    y_vals.append(y)\n",
    "x_column = np.reshape(x_vals, [len(x_vals), 1])\n",
    "print(x_column)"
   ]
  },
  {
   "cell_type": "code",
   "execution_count": 4,
   "metadata": {
    "pycharm": {
     "is_executing": false
    }
   },
   "outputs": [],
   "source": [
    "# Make a Ridge estimator\n",
    "ridge_estimator = Ridge()"
   ]
  },
  {
   "cell_type": "code",
   "execution_count": 5,
   "metadata": {
    "pycharm": {
     "is_executing": false
    }
   },
   "outputs": [
    {
     "data": {
      "text/plain": "Ridge(alpha=1.0, copy_X=True, fit_intercept=True, max_iter=None,\n   normalize=False, random_state=None, solver='auto', tol=0.001)"
     },
     "metadata": {},
     "output_type": "execute_result",
     "execution_count": 5
    }
   ],
   "source": [
    "# Train the estimator on our data\n",
    "ridge_estimator.fit(x_column, y_vals)"
   ]
  },
  {
   "cell_type": "code",
   "execution_count": 6,
   "outputs": [],
   "source": [
    "x_left2 = np.reshape(x_left,(1,1))\n",
    "x_right2 = np.reshape(x_right,(1,1))\n"
   ],
   "metadata": {
    "collapsed": false,
    "pycharm": {
     "name": "#%%\n",
     "is_executing": false
    }
   }
  },
  {
   "cell_type": "code",
   "execution_count": 7,
   "metadata": {
    "pycharm": {
     "is_executing": false
    }
   },
   "outputs": [
    {
     "data": {
      "text/plain": "<Figure size 720x288 with 3 Axes>",
      "image/png": "[encoded data removed]"
     },
     "metadata": {
      "needs_background": "light"
     },
     "output_type": "display_data"
    }
   ],
   "source": [
    "# Let's look at the data and the straight-line fit found by Ridge\n",
    "plt.figure(figsize=(10,4))\n",
    "plt.subplot(1,3,1)\n",
    "plt.scatter(x_vals, y_vals, s=20)\n",
    "plt.title('original data')\n",
    "\n",
    "plt.subplot(1,3,2)\n",
    "plt.scatter(x_vals, y_vals, s=20)\n",
    "y_left = ridge_estimator.predict(x_left2)\n",
    "y_right = ridge_estimator.predict(x_right2)\n",
    "plt.plot([x_left, x_right], [y_left, y_right], color='#ff0000', linewidth=3)\n",
    "plt.title('data with best line')\n",
    "\n",
    "plt.subplot(1,3,3)\n",
    "plt.scatter(x_vals, y_vals, s=20)\n",
    "x_left0 = np.reshape(-1,(1,1))\n",
    "x_right0 = np.reshape(1,(1,1))\n",
    "y_left0 = ridge_estimator.predict(x_left0)\n",
    "y_right0 = ridge_estimator.predict(x_right0)\n",
    "plt.plot([x_left0[0], x_right0[0]], [y_left0, y_right0], color='#ff0000', linewidth=3)\n",
    "\n",
    "file_helper.save_figure('ridge-demo')\n",
    "plt.show()"
   ]
  },
  {
   "cell_type": "code",
   "execution_count": 8,
   "metadata": {
    "pycharm": {
     "is_executing": false
    }
   },
   "outputs": [
    {
     "data": {
      "text/plain": "[<matplotlib.lines.Line2D at 0xfdab6a0>]"
     },
     "metadata": {},
     "output_type": "execute_result",
     "execution_count": 8
    },
    {
     "data": {
      "text/plain": "<Figure size 432x288 with 1 Axes>",
      "image/png": "[encoded data removed]"
     },
     "metadata": {
      "needs_background": "light"
     },
     "output_type": "display_data"
    }
   ],
   "source": [
    "x_left0 = np.reshape(-1,(1,1))\n",
    "x_right0 = np.reshape(1,(1,1))\n",
    "y_left0 = ridge_estimator.predict(x_left0)\n",
    "y_right0 = ridge_estimator.predict(x_right0)\n",
    "plt.plot([x_left0[0], x_right0[0]], [y_left0, y_right0], color='#ff0000', linewidth=3)"
   ]
  },
  {
   "cell_type": "code",
   "execution_count": null,
   "metadata": {
    "collapsed": true
   },
   "outputs": [],
   "source": []
  }
 ],
 "metadata": {
  "kernelspec": {
   "display_name": "Python 3",
   "language": "python",
   "name": "python3"
  },
  "language_info": {
   "codemirror_mode": {
    "name": "ipython",
    "version": 3
   },
   "file_extension": ".py",
   "mimetype": "text/x-python",
   "name": "python",
   "nbconvert_exporter": "python",
   "pygments_lexer": "ipython3",
   "version": "3.7.1"
  },
  "pycharm": {
   "stem_cell": {
    "cell_type": "raw",
    "source": [],
    "metadata": {
     "collapsed": false
    }
   }
  }
 },
 "nbformat": 4,
 "nbformat_minor": 1
}